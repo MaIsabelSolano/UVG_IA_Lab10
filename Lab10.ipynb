{
 "cells": [
  {
   "cell_type": "markdown",
   "id": "8079c154-8163-4491-a9bb-080e79c07810",
   "metadata": {},
   "source": [
    "Universidad del Valle de Guatemala <br>\n",
    "Facultad de Ingeniería <br>\n",
    "Departamento de Ciencias de la computación <br>\n",
    "Inteligencia Artificial \n",
    "\n",
    "# Laboratorio 10\n",
    "\n",
    "## Integrantes\n",
    "Christopher García <br>\n",
    "Ma. Isabel Solano <br>"
   ]
  },
  {
   "cell_type": "markdown",
   "id": "15f2f37d-635c-4c55-8e59-5364bec71ca6",
   "metadata": {},
   "source": [
    "## Task 1 - Clasificador de Imágenes (Perros vs Gatos)\n",
    "Deberá construir un modelo basado en redes neuronales que le permita clasificar perros y gatos basado en un input de imágen. Para esto, deberá usar técnicas basadas en Deep Learning relacionadas con el manejo de imágenes como las redes  convolucionales. Esto lo deberá hacer usando su librería de preferencia como PyTorch, Tensoflow\n",
    "entre otras. Recuerden que: \n",
    "- Deben hacer una breve exploración con los datos. Esto implica, pero no está limitado a:\n",
    "    - Limpieza de imágenes\n",
    "    - Escalamiento de las imágenes\n",
    "    - Estandarización de color\n",
    "    - Manipulación de imágenes\n",
    "        - Agregar contorno\n",
    "        - Cambiar dirección\n",
    "    - Revisar si el dataset está balanceado, caso no estarlo, aplicar alguna técnica para balancearlo lo más y mejor posible\n",
    "- Recuerden hacer el split para training, testing y si consideran necesario para validation\n",
    "    - 80% training\n",
    "    - 20% testing\n",
    "        - 10% validation si lo necesitan\n",
    "- Recuerde definir de forma clara y razonada (es decir, diga el por qué de su elección) de una métrica de desempeño principal"
   ]
  },
  {
   "cell_type": "markdown",
   "id": "161c61c5-8024-451a-a176-c310280a40eb",
   "metadata": {},
   "source": [
    "### Task 1.1 - Lectura del Dataset\n",
    "En esta ocasión no recibirá un documento único como entrada de datos, por el contrario deberá recibir un conjunto de imágenes que representan perros y gatos. Estos datos los puede descargar de este dataset de Kaggle. Deberá leer estas imágenes para crear un dataset en memoria que haga referencia a la imagen con sus características y a la categoría a la que pertenece. Recuerde que debe dividir su dataset según el uso y como se mencionó anteriormente. Además, considere que la cantidad de imágenes de perros y gatos puede estar desigual por lo que deberá aplicar las técnicas aprendidas durante el curso para lidiar con este problema Son libres de usar todas las imágenes del dataset dado o bien una cantidad definida por ustedes mismos siempre y cuando se argumente la razón de forma debida."
   ]
  },
  {
   "cell_type": "code",
   "execution_count": 1,
   "id": "496f5304-1b7a-4bce-916d-32e6f5530433",
   "metadata": {},
   "outputs": [],
   "source": [
    "import torch\n",
    "import torchvision\n",
    "import torchvision.transforms as transforms"
   ]
  },
  {
   "cell_type": "markdown",
   "id": "13aef091-bf26-48ca-958e-ca70f55d1c08",
   "metadata": {},
   "source": [
    "### Task 1.2 - Construcción del Modelo\n",
    "Deberá crear un modelo de Deep Learning orientado a imágenes, como una red que usa capas convolucionales, para poder resolver este laboratorio. Recuerde que deberá definir la arquitectura de su red, aplicando las diferentes técnicas vistas en clase (dropouts, funciones de activación, padding, stride, etc). Podrá usar la librería que más le parezca para completar el laboratorio.\n"
   ]
  },
  {
   "cell_type": "markdown",
   "id": "b1f985c9-3aef-4b91-bf96-96858d61de12",
   "metadata": {},
   "source": [
    "### Task 1.3 - Desempeño del modelo\n",
    "Al finalizar el entrenamiento de su modelo, permita que se ingresen nuevas imágenes y permita que el modelo la clasifique. Además recuerde medir el desempeño de su modelo tanto en entrenamiento como en testing. Para ello, deberá mostrar las métricas de desempeño de su modelo para las fases dichas, además de la evolución de las métricas durante las diferentes épocas, cuidando siempre no hacer overfitting sobre el dataset.\n"
   ]
  }
 ],
 "metadata": {
  "kernelspec": {
   "display_name": "Python 3 (ipykernel)",
   "language": "python",
   "name": "python3"
  },
  "language_info": {
   "codemirror_mode": {
    "name": "ipython",
    "version": 3
   },
   "file_extension": ".py",
   "mimetype": "text/x-python",
   "name": "python",
   "nbconvert_exporter": "python",
   "pygments_lexer": "ipython3",
   "version": "3.10.2"
  }
 },
 "nbformat": 4,
 "nbformat_minor": 5
}
